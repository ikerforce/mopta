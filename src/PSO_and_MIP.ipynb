{
  "nbformat": 4,
  "nbformat_minor": 0,
  "metadata": {
    "colab": {
      "provenance": []
    },
    "kernelspec": {
      "name": "python3",
      "display_name": "Python 3"
    },
    "language_info": {
      "name": "python"
    }
  },
  "cells": [
    {
      "cell_type": "markdown",
      "source": [
        "## Install packages and libraries"
      ],
      "metadata": {
        "id": "E67p3Ibd2I3z"
      }
    },
    {
      "cell_type": "code",
      "execution_count": 2,
      "metadata": {
        "id": "FpS6Hyfk1Z8I"
      },
      "outputs": [],
      "source": [
        "# Install the Pyomo package and the CBC solver to use within this notebook\n",
        "_ = !sudo apt install -qq libglpk-dev python3.8-dev libgmp3-dev\n",
        "_ = !apt-get install -y -qq coinor-cbc\n",
        "_ = !pip install -q pyomo\n",
        "\n",
        "import numpy as np\n",
        "import pandas as pd\n",
        "import pyomo\n",
        "import pyomo.environ as pyo\n",
        "import pyomo.gdp as gdp\n",
        "from IPython.display import Markdown\n",
        "import matplotlib.pyplot as plt\n",
        "from scipy.stats import norm\n",
        "from scipy.stats import uniform\n",
        "from scipy.stats import truncnorm\n",
        "import requests\n",
        "import types\n",
        "import time\n",
        "from pyomo.environ import SolverFactory\n"
      ]
    },
    {
      "cell_type": "code",
      "source": [
        "# Use CBC solver\n",
        "solver = SolverFactory('cbc', executable='/usr/bin/cbc')"
      ],
      "metadata": {
        "id": "SWbiLV1s1tDt"
      },
      "execution_count": 3,
      "outputs": []
    },
    {
      "cell_type": "markdown",
      "source": [
        "## Mount drive before continuing"
      ],
      "metadata": {
        "id": "FyrCOTr92Ry0"
      }
    },
    {
      "cell_type": "markdown",
      "source": [
        "### Read in data"
      ],
      "metadata": {
        "id": "FE4ZgVul_MLp"
      }
    },
    {
      "cell_type": "code",
      "source": [
        "car_data = pd.read_csv('/content/drive/MyDrive/MOPTA/MOPTA2023_car_locations.csv')\n",
        "car_data = np.array(car_data)"
      ],
      "metadata": {
        "id": "8t-PI7xC1vRS"
      },
      "execution_count": 4,
      "outputs": []
    },
    {
      "cell_type": "markdown",
      "source": [
        "## Define structure of individuals and population"
      ],
      "metadata": {
        "id": "QClmP6ND_ODR"
      }
    },
    {
      "cell_type": "code",
      "source": [
        "# Define individual structures\n",
        "\n",
        "n_individual = 600 # stations in an individual\n",
        "pop_size = 1 # number of individuals\n",
        "x_max = 290 # size of search space on x axis\n",
        "y_max = 150 # size of search space on y axis\n",
        "max_chargers = 8 # max number of chargers at a station\n",
        "\n",
        "generations = 10\n",
        "\n",
        "# cost parameters\n",
        "driving_cost_per_mile = 0.041\n",
        "charging_cost_per_mile = 0.0388\n",
        "construction_cost_per_station = 5000\n",
        "maintenance_fee_per_charger = 500\n",
        "\n",
        "# define the population\n",
        "options = {'c1': 0.5, 'c2': 0.3, 'w':0.9}\n",
        "\n",
        "# uniform distribution for generating random points in the search space\n",
        "ud_x = uniform(0, x_max)\n",
        "ud_y = uniform(0, y_max)\n",
        "\n",
        "# uniform distribution for generating random number between 0 and 1\n",
        "ud = uniform(0,1)\n",
        "\n",
        "# global best station positions\n",
        "global_best_stations = np.array([[ud_x.rvs(1)[0],ud_y.rvs(1)[0]] for i in range(n_individual)]) # position of every station in the global best\n",
        "# global best score\n",
        "global_best_score = 1000000000\n",
        "\n",
        "local_best_scores = [1e9 for i in range(pop_size)] # storing local best scores (not positions)\n",
        "\n",
        "class Individual:\n",
        "\n",
        "  def __init__(self, ident, positions, chargers, velocities):\n",
        "    self.ident = ident\n",
        "    self.positions = positions # numpy array of x,y positions of all stations\n",
        "    self.chargers = chargers # numpy array of number of chargers per station\n",
        "    self.velocities = velocities # numpy array of x,y velocity of each station\n",
        "    self.best_positions = np.array([[ud_x.rvs(1), ud_y.rvs(1)] for i in range(self.positions.shape[0])]).reshape(n_individual, 2) # numpy array of best configuration for the station\n",
        "    self.cost = 0\n",
        "\n",
        "  def update_positions(self, global_best_stations): # global best stations must be a numpy array with x,y coords of the best global configuration\n",
        "    inertia_components = options['w'] * (self.velocities)\n",
        "    cognitive_components = ud.rvs(1) * options['c1'] * (self.best_positions - self.positions)\n",
        "    social_components = ud.rvs(1) * options['c2'] * (global_best_stations - self.positions)\n",
        "\n",
        "    new_velocities = inertia_components + cognitive_components + social_components\n",
        "    new_positions = new_velocities + self.positions\n",
        "\n",
        "    # Replace out-of-range x,y values with random values between 0 and x_max,y_max\n",
        "    if new_positions[new_positions[:,0] > x_max].shape[0] > 0:\n",
        "      new_positions[new_positions[:, 0] > x_max, 0] = np.random.uniform(0, x_max, size=np.sum(new_positions[:, 0] > x_max))\n",
        "    if new_positions[new_positions[:,1] > y_max].shape[0] > 0:\n",
        "      new_positions[new_positions[:, 1] > y_max, 1] = np.random.uniform(0, y_max, size=np.sum(new_positions[:, 1] > y_max))\n",
        "    if new_positions[new_positions[:,0] < 0].shape[0] > 0:\n",
        "      new_positions[new_positions[:, 0] < 0, 0] = np.random.uniform(0, x_max, size=np.sum(new_positions[:, 0] < 0))\n",
        "    if new_positions[new_positions[:,1] < 0].shape[0] > 0:\n",
        "      new_positions[new_positions[:, 1] < 0, 1] = np.random.uniform(0, y_max, size=np.sum(new_positions[:, 1] < 0))\n",
        "\n",
        "    new_positions.reshape(n_individual, 2)\n",
        "\n",
        "    self.positions = new_positions\n",
        "    self.velocities = new_velocities"
      ],
      "metadata": {
        "id": "oXMUxCAN2H_s"
      },
      "execution_count": 186,
      "outputs": []
    },
    {
      "cell_type": "markdown",
      "source": [
        "### Generate population"
      ],
      "metadata": {
        "id": "2wgP9i6Q_STp"
      }
    },
    {
      "cell_type": "code",
      "source": [
        "nd = norm(10,5) # normal distribution for sampling velocities\n",
        "population = {} # empty dictionary to fill with individuals to make population\n",
        "for i in range(pop_size):\n",
        "  # generating random x,y positions for the individual stations\n",
        "  positions = np.dstack([ud_x.rvs(n_individual), ud_y.rvs(n_individual)]).reshape(n_individual,2)\n",
        "  velocities=nd.rvs(size=(n_individual, 2)) # sampling velocities from random dist\n",
        "  population.update({i : Individual(ident=i,\n",
        "                                    positions=positions,\n",
        "                                    chargers=np.random.choice(list(range(1,9))),\n",
        "                                    velocities=velocities)}\n",
        "                    )\n",
        "  \n",
        "\n",
        "population[0].velocities"
      ],
      "metadata": {
        "colab": {
          "base_uri": "https://localhost:8080/"
        },
        "id": "W91-p2IK629A",
        "outputId": "42868a8a-eeed-4ccc-9783-20c43924ac09"
      },
      "execution_count": 187,
      "outputs": [
        {
          "output_type": "execute_result",
          "data": {
            "text/plain": [
              "array([[18.92074938,  9.74567929],\n",
              "       [ 8.04938202,  6.73644996],\n",
              "       [18.9908686 , 17.18972914],\n",
              "       ...,\n",
              "       [12.46897378,  7.71190301],\n",
              "       [ 6.34244343, 10.75114008],\n",
              "       [14.20575127, 10.2112405 ]])"
            ]
          },
          "metadata": {},
          "execution_count": 187
        }
      ]
    },
    {
      "cell_type": "markdown",
      "source": [
        "### Sample vehicle ranges"
      ],
      "metadata": {
        "id": "3m1P-2Rp_VOw"
      }
    },
    {
      "cell_type": "code",
      "source": [
        "# get sample of vehicle ranges\n",
        "min_range = 20\n",
        "max_range = 250\n",
        "mean_range = 100\n",
        "sd_range = 50\n",
        "\n",
        "# sample ranges for each vehicle\n",
        "def get_samples(min_range=min_range,\n",
        "                max_range=max_range,\n",
        "                mean_range=mean_range,\n",
        "                sd_range=sd_range):\n",
        "    pd = truncnorm((min_range - mean_range) / sd_range, \n",
        "                   (max_range - mean_range) / sd_range, \n",
        "                   loc=mean_range, scale=sd_range)\n",
        "    samples = pd.rvs(size=(car_data.shape[0], 10))\n",
        "    samples_aggregated = np.mean(samples, axis=1)\n",
        "\n",
        "    return samples_aggregated\n",
        "\n",
        "# ranges sampled\n",
        "samples = get_samples()"
      ],
      "metadata": {
        "id": "m2p7MmW39txO"
      },
      "execution_count": 188,
      "outputs": []
    },
    {
      "cell_type": "markdown",
      "source": [
        "## Evaluation function"
      ],
      "metadata": {
        "id": "Si4tacgN_Zgp"
      }
    },
    {
      "cell_type": "code",
      "source": [
        "def compute_visiting_probability(ranges:np.array, lam:float=0.012):\n",
        "    return np.exp(-lam**2 * (ranges - 20)**2 )\n",
        "\n",
        "# Calculate the pairwise distances between points in the two arrays\n",
        "def calculate_distance(car_location, station_location):\n",
        "    return np.linalg.norm(car_location - station_location, axis=1)\n",
        "\n",
        "def MIP(vehicles, stations, distances, v_b):\n",
        "  L = 8\n",
        "\n",
        "  M = 500\n",
        "\n",
        "  m = pyo.ConcreteModel('vehicle assignment')\n",
        "\n",
        "  m.VEHICLES = pyo.Set(initialize = vehicles.keys())\n",
        "  m.STATIONS = pyo.Set(initialize = stations.keys())\n",
        "\n",
        "  m.x = pyo.Var(m.VEHICLES * m.STATIONS, domain=pyo.Binary)\n",
        "\n",
        "  @m.Objective(sense=pyo.minimize)\n",
        "  def minimize_allocation(m):\n",
        "      return sum(m.x[vehicle, station] * (distances[vehicle, station] + v_b[vehicle] * M) for vehicle in m.VEHICLES for station in m.STATIONS)   #sum(m.past[job] for job in m.JOBS)\n",
        "\n",
        "  @m.Constraint(m.STATIONS)\n",
        "  def max_chargers(m, station):\n",
        "      # return sum(m.x[v, station] * c[v] for v in m.VEHICLES) <= L\n",
        "      return sum(m.x[v, station] for v in m.VEHICLES) <= L\n",
        "\n",
        "  @m.Constraint(m.VEHICLES)\n",
        "  def single_allocation(m, vehicle):\n",
        "      return sum(m.x[vehicle, s] for s in m.STATIONS) == 1\n",
        "\n",
        "  @m.Constraint(m.VEHICLES, m.STATIONS)\n",
        "  def max_range(m, vehicle, station):\n",
        "      return m.x[vehicle, station] * distances[vehicle, station] <= 100\n",
        "\n",
        "  result = solver.solve(m)\n",
        "\n",
        "  Z = np.zeros((max(vehicles)+1, max(stations)+1))\n",
        "  for i in m.VEHICLES:\n",
        "    for j in m.STATIONS:\n",
        "      Z[i, j] = m.x[i, j]()\n",
        "\n",
        "  return m.minimize_allocation(), Z"
      ],
      "metadata": {
        "id": "hj55KECy_ntV"
      },
      "execution_count": 189,
      "outputs": []
    },
    {
      "cell_type": "code",
      "source": [
        "def solve_MIP(population, car_data, local_best_scores):\n",
        "  for i in range(len(population.keys())):\n",
        "    # sample vehicle ranges\n",
        "    ranges = get_samples()\n",
        "\n",
        "    # get visiting probabilities\n",
        "    c = compute_visiting_probability(ranges)\n",
        "    # number of vehicles per batch\n",
        "    v_b = c * 10\n",
        "    # exclude vehicles with a low probability of charging\n",
        "    exclusion = 0.3*10\n",
        "\n",
        "    # vehicle batches which have a strong enough probability of visiting a charger\n",
        "    applicable_vehicles = np.array([v for v in range(v_b.shape[0]) if v_b[v] > exclusion])\n",
        "    vehicle_positions = car_data[applicable_vehicles]\n",
        "    vehicle_dict = {j : vehicle_positions[j] for j in range(vehicle_positions.shape[0])}\n",
        "\n",
        "    # station positions\n",
        "    station_dict = {j : population[i].positions[j] for j in range(n_individual)}\n",
        "    \n",
        "    distances = np.zeros((vehicle_positions.shape[0], n_individual))\n",
        "    for s in range(n_individual):\n",
        "        distances[:,s] = calculate_distance(vehicle_positions, population[i].positions[s])\n",
        "\n",
        "    obj, X = MIP(vehicle_dict, station_dict, distances, v_b)\n",
        "\n",
        "    # counting how many stations are active and subsequent cost\n",
        "    active_stations = [j for j in range(X.shape[1]) if np.sum(X[:, j]) > 0]\n",
        "    active_station_cost = construction_cost_per_station * len(active_stations)\n",
        "\n",
        "    total_cost = active_station_cost + obj\n",
        "\n",
        "    population[i].cost = total_cost\n",
        "\n",
        "    if total_cost < local_best_scores[i]:\n",
        "      local_best_scores[i] = total_cost\n",
        "      population[i].best_positions = population[i].positions\n"
      ],
      "metadata": {
        "id": "xPVHiZ19_z5I"
      },
      "execution_count": 190,
      "outputs": []
    },
    {
      "cell_type": "code",
      "source": [
        "def evaluate(population, vehicles, global_best_score, global_best_stations, local_best_scores):\n",
        "    '''\n",
        "    this function is where we run a MIP to solve the station size problem and then evaluate the total cost\n",
        "\n",
        "    The vehicle-->station assignments must be made in this function\n",
        "    '''\n",
        "\n",
        "    print('Solving assignment problem...')\n",
        "    solve_MIP(population, vehicles, local_best_scores)\n",
        "    print('Assignment solved for population')\n",
        "\n",
        "    population_fitness = []\n",
        "    for i in population:\n",
        "      population_fitness.append(population[i].cost)\n",
        "\n",
        "    \n",
        "    print(\"Population fitness: \", population_fitness)\n",
        "    \n",
        "    if max(population_fitness) <= global_best_score:\n",
        "      global_best_score = max(population_fitness)\n",
        "      global_best_stations = population[np.argmax(population_fitness)].positions\n",
        "      print('Updated global best')\n",
        "    print(\"Evaluation Complete\\n----------------------------\")\n",
        "    \n",
        "    return global_best_score, global_best_stations, local_best_scores"
      ],
      "metadata": {
        "id": "OYDNBWX8-PWR"
      },
      "execution_count": 191,
      "outputs": []
    },
    {
      "cell_type": "code",
      "source": [
        "# evaluate(population, car_data, global_best_score, global_best_stations, local_best_scores)"
      ],
      "metadata": {
        "id": "yYQK4qx0-Ad_"
      },
      "execution_count": 192,
      "outputs": []
    },
    {
      "cell_type": "code",
      "source": [
        "for gen in range(generations):\n",
        "\n",
        "  global_best_score, global_best_stations, local_best_scores = evaluate(population, car_data, global_best_score, global_best_stations, local_best_scores)\n",
        "\n",
        "  for ind in population:\n",
        "    population[ind].update_positions(global_best_stations)"
      ],
      "metadata": {
        "colab": {
          "base_uri": "https://localhost:8080/"
        },
        "id": "Nq5xbrbV_3HE",
        "outputId": "e985836f-19fe-4955-9fd1-e40d660ee271"
      },
      "execution_count": 193,
      "outputs": [
        {
          "output_type": "stream",
          "name": "stdout",
          "text": [
            "Solving assignment problem...\n",
            "Assignment solved for population\n",
            "Population fitness:  [2224351.204102395]\n",
            "Updated global best\n",
            "Evaluation Complete\n",
            "----------------------------\n",
            "Solving assignment problem...\n",
            "Assignment solved for population\n",
            "Population fitness:  [2246574.6962350816]\n",
            "Evaluation Complete\n",
            "----------------------------\n",
            "Solving assignment problem...\n",
            "Assignment solved for population\n",
            "Population fitness:  [2087997.790473562]\n",
            "Updated global best\n",
            "Evaluation Complete\n",
            "----------------------------\n",
            "Solving assignment problem...\n",
            "Assignment solved for population\n",
            "Population fitness:  [2159984.608158535]\n",
            "Evaluation Complete\n",
            "----------------------------\n",
            "Solving assignment problem...\n",
            "Assignment solved for population\n",
            "Population fitness:  [2031938.1664931644]\n",
            "Updated global best\n",
            "Evaluation Complete\n",
            "----------------------------\n",
            "Solving assignment problem...\n",
            "Assignment solved for population\n",
            "Population fitness:  [2036476.118998086]\n",
            "Evaluation Complete\n",
            "----------------------------\n",
            "Solving assignment problem...\n",
            "Assignment solved for population\n",
            "Population fitness:  [2054931.4231311667]\n",
            "Evaluation Complete\n",
            "----------------------------\n",
            "Solving assignment problem...\n",
            "Assignment solved for population\n",
            "Population fitness:  [2080929.9166139835]\n",
            "Evaluation Complete\n",
            "----------------------------\n",
            "Solving assignment problem...\n",
            "Assignment solved for population\n",
            "Population fitness:  [2019351.0023448777]\n",
            "Updated global best\n",
            "Evaluation Complete\n",
            "----------------------------\n",
            "Solving assignment problem...\n",
            "Assignment solved for population\n",
            "Population fitness:  [1984720.736706721]\n",
            "Updated global best\n",
            "Evaluation Complete\n",
            "----------------------------\n"
          ]
        }
      ]
    },
    {
      "cell_type": "code",
      "source": [
        "plt.plot([2224351.204102395, \n",
        "          2246574.6962350816,\n",
        "          2087997.790473562,\n",
        "          2159984.608158535,\n",
        "          2031938.1664931644,\n",
        "          2036476.118998086,\n",
        "          2054931.4231311667,\n",
        "          2080929.9166139835,\n",
        "          2019351.0023448777,\n",
        "          1984720.736706721])\n",
        "plt.ylabel('Cost')\n",
        "plt.xlabel('Generation')"
      ],
      "metadata": {
        "colab": {
          "base_uri": "https://localhost:8080/",
          "height": 483
        },
        "id": "LeObkiCWJO20",
        "outputId": "92d40d38-1df0-4b16-ffc3-4289daedfc3e"
      },
      "execution_count": 195,
      "outputs": [
        {
          "output_type": "execute_result",
          "data": {
            "text/plain": [
              "Text(0.5, 0, 'Generation')"
            ]
          },
          "metadata": {},
          "execution_count": 195
        },
        {
          "output_type": "display_data",
          "data": {
            "text/plain": [
              "<Figure size 640x480 with 1 Axes>"
            ],
            "image/png": "[encoded data removed]"
          },
          "metadata": {}
        }
      ]
    },
    {
      "cell_type": "code",
      "source": [],
      "metadata": {
        "id": "3SwzsESgYVTf"
      },
      "execution_count": 178,
      "outputs": []
    },
    {
      "cell_type": "code",
      "source": [],
      "metadata": {
        "id": "zxD3UrGnYV58"
      },
      "execution_count": null,
      "outputs": []
    }
  ]
}