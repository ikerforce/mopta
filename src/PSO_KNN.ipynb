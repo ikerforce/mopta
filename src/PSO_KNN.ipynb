{
  "nbformat": 4,
  "nbformat_minor": 0,
  "metadata": {
    "colab": {
      "provenance": []
    },
    "kernelspec": {
      "name": "python3",
      "display_name": "Python 3"
    },
    "language_info": {
      "name": "python"
    }
  },
  "cells": [
    {
      "cell_type": "markdown",
      "source": [
        "## Install packages and libraries"
      ],
      "metadata": {
        "id": "E67p3Ibd2I3z"
      }
    },
    {
      "cell_type": "code",
      "execution_count": 57,
      "metadata": {
        "id": "FpS6Hyfk1Z8I"
      },
      "outputs": [],
      "source": [
        "# Install the Pyomo package and the CBC solver to use within this notebook\n",
        "use_pyomo = 0\n",
        "if use_pyomo:\n",
        "  _ = !sudo apt install -qq libglpk-dev python3.8-dev libgmp3-dev\n",
        "  _ = !apt-get install -y -qq coinor-cbc\n",
        "  _ = !pip install -q pyomo\n",
        "  _ = !pip install -U pymoo\n",
        "  import pyomo\n",
        "  import pyomo.environ as pyo\n",
        "  import pyomo.gdp as gdp\n",
        "  from IPython.display import Markdown\n",
        "  from pyomo.environ import SolverFactory\n",
        "  from pymoo.algorithms.moo.nsga2 import NSGA2\n",
        "  from pymoo.problems import get_problem\n",
        "  from pymoo.optimize import minimize\n",
        "  from pymoo.visualization.scatter import Scatter\n",
        "  from pymoo.core.problem import Problem\n",
        "  # Use CBC solver\n",
        "  solver = SolverFactory('cbc', executable='/usr/bin/cbc')\n",
        "\n",
        "import numpy as np\n",
        "import pandas as pd\n",
        "import matplotlib.pyplot as plt\n",
        "from scipy.stats import norm\n",
        "from scipy.stats import uniform\n",
        "from scipy.stats import truncnorm\n",
        "import requests\n",
        "import types\n",
        "import time\n",
        "from sklearn.neighbors import BallTree\n",
        "import random\n"
      ]
    },
    {
      "cell_type": "markdown",
      "source": [
        "## Mount drive before continuing"
      ],
      "metadata": {
        "id": "FyrCOTr92Ry0"
      }
    },
    {
      "cell_type": "markdown",
      "source": [
        "### Read in data"
      ],
      "metadata": {
        "id": "FE4ZgVul_MLp"
      }
    },
    {
      "cell_type": "code",
      "source": [
        "car_data = pd.read_csv('/content/drive/MyDrive/MOPTA/MOPTA2023_car_locations.csv')\n",
        "car_data = np.array(car_data)"
      ],
      "metadata": {
        "id": "8t-PI7xC1vRS"
      },
      "execution_count": 3,
      "outputs": []
    },
    {
      "cell_type": "markdown",
      "source": [
        "## Define structure of individuals and population"
      ],
      "metadata": {
        "id": "QClmP6ND_ODR"
      }
    },
    {
      "cell_type": "code",
      "source": [
        "# Define individual structures\n",
        "\n",
        "n_individual = 600 # stations in an individual\n",
        "pop_size = 1 # number of individuals\n",
        "x_max = 290 # size of search space on x axis\n",
        "y_max = 150 # size of search space on y axis\n",
        "max_chargers = 8 # max number of chargers at a station\n",
        "\n",
        "generations = 1\n",
        "\n",
        "# cost parameters\n",
        "driving_cost_per_mile = 0.041\n",
        "charging_cost_per_mile = 0.0388\n",
        "construction_cost_per_station = 5000\n",
        "maintenance_fee_per_charger = 500\n",
        "no_assignment_penalty = 1000\n",
        "exceed_range_penalty = 1000\n",
        "\n",
        "# define the population\n",
        "options = {'c1': 0.5, 'c2': 0.3, 'w':0.9}\n",
        "\n",
        "# uniform distribution for generating random points in the search space\n",
        "ud_x = uniform(0, x_max)\n",
        "ud_y = uniform(0, y_max)\n",
        "\n",
        "# uniform distribution for generating random number between 0 and 1\n",
        "ud = uniform(0,1)\n",
        "\n",
        "# global best station positions\n",
        "global_best_stations = np.array([[ud_x.rvs(1)[0],ud_y.rvs(1)[0]] for i in range(n_individual)]) # position of every station in the global best\n",
        "# global best score\n",
        "global_best_score = 1000000000\n",
        "\n",
        "local_best_scores = [1e9 for i in range(pop_size)] # storing local best scores (not positions)\n",
        "\n",
        "class Individual:\n",
        "\n",
        "  def __init__(self, ident, positions, chargers, velocities):\n",
        "    self.ident = ident\n",
        "    self.positions = positions # numpy array of x,y positions of all stations\n",
        "    self.chargers = chargers # numpy array of number of chargers per station\n",
        "    self.velocities = velocities # numpy array of x,y velocity of each station\n",
        "    self.best_positions = np.array([[ud_x.rvs(1), ud_y.rvs(1)] for i in range(self.positions.shape[0])]).reshape(n_individual, 2) # numpy array of best configuration for the station\n",
        "    self.cost = 0\n",
        "    self.vehicle_assignments = None\n",
        "\n",
        "  def update_positions(self, global_best_stations): # global best stations must be a numpy array with x,y coords of the best global configuration\n",
        "    inertia_components = options['w'] * (self.velocities)\n",
        "    cognitive_components = ud.rvs(1) * options['c1'] * (self.best_positions - self.positions)\n",
        "    social_components = ud.rvs(1) * options['c2'] * (global_best_stations - self.positions)\n",
        "\n",
        "    new_velocities = inertia_components + cognitive_components + social_components\n",
        "    new_positions = new_velocities + self.positions\n",
        "\n",
        "    # Replace out-of-range x,y values with random values between 0 and x_max,y_max\n",
        "    if new_positions[new_positions[:,0] > x_max].shape[0] > 0:\n",
        "      new_positions[new_positions[:, 0] > x_max, 0] = np.random.uniform(0, x_max, size=np.sum(new_positions[:, 0] > x_max))\n",
        "    if new_positions[new_positions[:,1] > y_max].shape[0] > 0:\n",
        "      new_positions[new_positions[:, 1] > y_max, 1] = np.random.uniform(0, y_max, size=np.sum(new_positions[:, 1] > y_max))\n",
        "    if new_positions[new_positions[:,0] < 0].shape[0] > 0:\n",
        "      new_positions[new_positions[:, 0] < 0, 0] = np.random.uniform(0, x_max, size=np.sum(new_positions[:, 0] < 0))\n",
        "    if new_positions[new_positions[:,1] < 0].shape[0] > 0:\n",
        "      new_positions[new_positions[:, 1] < 0, 1] = np.random.uniform(0, y_max, size=np.sum(new_positions[:, 1] < 0))\n",
        "\n",
        "    new_positions.reshape(n_individual, 2)\n",
        "\n",
        "    self.positions = new_positions\n",
        "    self.velocities = new_velocities"
      ],
      "metadata": {
        "id": "oXMUxCAN2H_s"
      },
      "execution_count": 95,
      "outputs": []
    },
    {
      "cell_type": "markdown",
      "source": [
        "### Generate population"
      ],
      "metadata": {
        "id": "2wgP9i6Q_STp"
      }
    },
    {
      "cell_type": "code",
      "source": [
        "nd = norm(10,5) # normal distribution for sampling velocities\n",
        "def gen_pop(pop_size):\n",
        "  for i in range(pop_size):\n",
        "    population = {} # empty dictionary to fill with individuals to make population\n",
        "    # generating random x,y positions for the individual stations\n",
        "    positions = np.dstack([ud_x.rvs(n_individual), ud_y.rvs(n_individual)]).reshape(n_individual,2)\n",
        "    velocities=nd.rvs(size=(n_individual, 2)) # sampling velocities from random dist\n",
        "    population.update({i : Individual(ident=i,\n",
        "                                      positions=positions,\n",
        "                                      chargers=np.random.choice(list(range(1,9))),\n",
        "                                      velocities=velocities)}\n",
        "                      )\n",
        "    return population\n",
        "  \n",
        "population = gen_pop(pop_size)\n",
        "population[0].velocities"
      ],
      "metadata": {
        "colab": {
          "base_uri": "https://localhost:8080/"
        },
        "id": "W91-p2IK629A",
        "outputId": "a45c4492-f204-451e-c358-b1b5da3b3d73"
      },
      "execution_count": 63,
      "outputs": [
        {
          "output_type": "execute_result",
          "data": {
            "text/plain": [
              "array([[-0.40507859, 16.55730428],\n",
              "       [ 6.36831206,  8.62823115],\n",
              "       [ 8.55682476,  9.56065774],\n",
              "       ...,\n",
              "       [ 9.55147857, 12.68928304],\n",
              "       [ 8.58772274,  4.72010236],\n",
              "       [ 8.19392781,  9.81147749]])"
            ]
          },
          "metadata": {},
          "execution_count": 63
        }
      ]
    },
    {
      "cell_type": "markdown",
      "source": [
        "### Sample vehicle ranges"
      ],
      "metadata": {
        "id": "3m1P-2Rp_VOw"
      }
    },
    {
      "cell_type": "code",
      "source": [
        "# get sample of vehicle ranges\n",
        "min_range = 20\n",
        "max_range = 250\n",
        "mean_range = 100\n",
        "sd_range = 50\n",
        "\n",
        "# sample ranges for each vehicle\n",
        "def get_samples(min_range=min_range,\n",
        "                max_range=max_range,\n",
        "                mean_range=mean_range,\n",
        "                sd_range=sd_range):\n",
        "    pd = truncnorm((min_range - mean_range) / sd_range, \n",
        "                   (max_range - mean_range) / sd_range, \n",
        "                   loc=mean_range, scale=sd_range)\n",
        "    samples = pd.rvs(size=(car_data.shape[0], 10))\n",
        "    samples_aggregated = np.mean(samples, axis=1)\n",
        "\n",
        "    return samples_aggregated\n",
        "\n",
        "# ranges sampled\n",
        "samples = get_samples()"
      ],
      "metadata": {
        "id": "m2p7MmW39txO"
      },
      "execution_count": 96,
      "outputs": []
    },
    {
      "cell_type": "markdown",
      "source": [
        "## Evaluation function"
      ],
      "metadata": {
        "id": "Si4tacgN_Zgp"
      }
    },
    {
      "cell_type": "code",
      "source": [
        "def compute_visiting_probability(ranges:np.array, lam:float=0.012):\n",
        "    return np.exp(-lam**2 * (ranges - 20)**2 )\n",
        "\n",
        "# Calculate the pairwise distances between points in the two arrays\n",
        "def calculate_distance(car_location, station_location):\n",
        "    return np.linalg.norm(car_location - station_location, axis=1)\n",
        "\n",
        "def MIP(vehicles, stations, distances, v_b):\n",
        "  L = 8\n",
        "  L_max = 16\n",
        "  A = 1000\n",
        "\n",
        "  M = 500\n",
        "\n",
        "  m = pyo.ConcreteModel('vehicle assignment')\n",
        "\n",
        "  m.VEHICLES = pyo.Set(initialize = vehicles.keys())\n",
        "  m.STATIONS = pyo.Set(initialize = stations.keys())\n",
        "\n",
        "  m.x = pyo.Var(m.VEHICLES * m.STATIONS, domain=pyo.Binary)\n",
        "  m.tau = pyo.Var(m.STATIONS, domain=pyo.NonNegativeReals)\n",
        "  m.y = pyo.Var(m.STATIONS, domain=pyo.Binary)\n",
        "\n",
        "  @m.Objective(sense=pyo.minimize)\n",
        "  def minimize_allocation(m):\n",
        "      return sum(m.x[vehicle, station] * (distances[vehicle, station]) * driving_cost_per_mile * v_b[vehicle] for vehicle in m.VEHICLES for station in m.STATIONS) + M * sum(m.tau[s] for s in m.STATIONS) + sum(m.x[v, s] * (250-(distances[v, s])) * charging_cost_per_mile for v in m.VEHICLES for s in m.STATIONS)\n",
        "\n",
        "  @m.Constraint(m.STATIONS)\n",
        "  def max_chargers(m, station):\n",
        "      # return sum(m.x[v, station] * c[v] for v in m.VEHICLES) <= L\n",
        "      return sum(m.x[v, station] for v in m.VEHICLES) <= L_max\n",
        "\n",
        "  @m.Constraint(m.VEHICLES)\n",
        "  def single_allocation(m, vehicle):\n",
        "      return sum(m.x[vehicle, s] for s in m.STATIONS) == 1\n",
        "\n",
        "  @m.Constraint(m.VEHICLES, m.STATIONS)\n",
        "  def max_range(m, vehicle, station):\n",
        "      return m.x[vehicle, station] * distances[vehicle, station] <= 100\n",
        "\n",
        "  @m.Constraint(m.STATIONS)\n",
        "  def tau1(m, station):\n",
        "      return L - sum(m.x[v, station] * v_b[v] for v in m.VEHICLES) <= A * m.y[station]\n",
        "\n",
        "  @m.Constraint(m.STATIONS)\n",
        "  def tau2(m, station):\n",
        "      return sum(m.x[v, station] * v_b[v] for v in m.VEHICLES) - L <= A * (1 - m.y[station])\n",
        "\n",
        "  @m.Constraint(m.STATIONS)\n",
        "  def tau3(m, station):\n",
        "      return m.tau[station] <= sum(m.x[v, station] * v_b[v] for v in m.VEHICLES)\n",
        "\n",
        "  @m.Constraint(m.STATIONS)\n",
        "  def tau4(m, station):\n",
        "      return m.tau[station] <= L\n",
        "\n",
        "  @m.Constraint(m.STATIONS)\n",
        "  def tau5(m, station):\n",
        "      return m.tau[station] >= sum(m.x[v, station] * v_b[v] for v in m.VEHICLES) - A * (1 - m.y[station])\n",
        "\n",
        "  @m.Constraint(m.STATIONS)\n",
        "  def tau6(m, station):\n",
        "      return m.tau[station] >= L - A * m.y[station]\n",
        "\n",
        "  result = solver.solve(m)\n",
        "\n",
        "  Z = np.zeros((max(vehicles)+1, max(stations)+1))\n",
        "  for i in m.VEHICLES:\n",
        "    for j in m.STATIONS:\n",
        "      Z[i, j] = m.x[i, j]()\n",
        "\n",
        "  return m.minimize_allocation(), Z"
      ],
      "metadata": {
        "id": "hj55KECy_ntV"
      },
      "execution_count": 39,
      "outputs": []
    },
    {
      "cell_type": "code",
      "source": [
        "def KNN(vehicles, stations, distances, v_b):\n",
        "  return 0\n",
        "\n",
        "population = gen_pop(pop_size)\n",
        "\n",
        "start = time.time()\n",
        "\n",
        "K = 100 # number of nearest-stations to find for a vehicle\n",
        "\n",
        "ranges = get_samples()\n",
        "S = 16\n",
        "\n",
        "# get visiting probabilities\n",
        "c = compute_visiting_probability(ranges)\n",
        "# number of vehicles per batch\n",
        "v_b = np.round(c * 10, 0)\n",
        "# exclude vehicles with a low probability of charging\n",
        "exclusion = 0.2*10\n",
        "\n",
        "# vehicle batches which have a strong enough probability of visiting a charger\n",
        "applicable_vehicles = np.array([v for v in range(v_b.shape[0]) if v_b[v] > exclusion])\n",
        "applicable_ranges = ranges[applicable_vehicles]\n",
        "\n",
        "v_b = v_b[applicable_vehicles]\n",
        "\n",
        "print(\"There are {} applicable vehicles nodes\".format(applicable_vehicles.shape[0]))\n",
        "vehicle_positions = car_data[applicable_vehicles]\n",
        "vehicle_dict = {j : vehicle_positions[j] for j in range(vehicle_positions.shape[0])}\n",
        "\n",
        "# station positions\n",
        "station_dict = {j : population[0].positions[j] for j in range(n_individual)}\n",
        "# station position array\n",
        "station_positions = np.array([station_dict[i] for i in station_dict])\n",
        "\n",
        "distances = np.zeros((vehicle_positions.shape[0], n_individual))\n",
        "for s in range(n_individual):\n",
        "    distances[:,s] = calculate_distance(vehicle_positions, population[0].positions[s]) ########################### POPULATIONS INDIVIDUAL\n",
        "\n",
        "# find the indices of applicable stations\n",
        "tree = BallTree(station_positions, leaf_size=2)\n",
        "# ind = tree.query_radius(vehicle_positions, r=applicable_ranges) # indices of stations that are in range of vehicles\n",
        "# ind_range = tree.query_radius(vehicle_positions, r=applicable_ranges) # indices of stations that are in range of vehicles\n",
        "dist, ind_closest = tree.query(vehicle_positions, k=K) # indices of closest stations\n",
        "\n",
        "# dictionary of how many chargers at each station\n",
        "station_counter = {i : 0 for i in range(station_positions.shape[0])}\n",
        "vehicle_assignments = {i : None for i in range(vehicle_positions.shape[0])}\n",
        "distance_to_station = []\n",
        "charging_costs = []\n",
        "\n",
        "shuffle_vehicle_indices = list(range(vehicle_positions.shape[0]))\n",
        "random.shuffle(shuffle_vehicle_indices)\n",
        "\n",
        "assigned = 0\n",
        "\n",
        "# for each vehicle, find a station with availability and add the vehicle batch to that station\n",
        "for v in shuffle_vehicle_indices:\n",
        "  for ind in range(ind_closest[v].shape[0]):\n",
        "    if station_counter[ind_closest[v][ind]] + v_b[v] <= S:\n",
        "      station_counter[ind_closest[v][ind]] += v_b[v]\n",
        "      vehicle_assignments[v] = ind_closest[v][ind]\n",
        "      distance_to_station.append(dist[v][ind])\n",
        "      charging_costs.append(charging_cost_per_mile * v_b[v] * (250 - applicable_ranges[v] - dist[v][ind]))\n",
        "      assigned += 1\n",
        "      break\n",
        "\n",
        "# calculate the cost\n",
        "# driving cost\n",
        "driving_cost = sum(distance_to_station) * driving_cost_per_mile\n",
        "# charging cost\n",
        "charging_cost = sum(charging_costs)\n",
        "# station cost, charger cost\n",
        "station_cost, charger_cost = 0,0\n",
        "for s in station_counter:\n",
        "  station_cost += construction_cost_per_station * (station_counter[s] > 0)\n",
        "  charger_cost += maintenance_fee_per_charger * station_counter[s]\n",
        "# penalty cost (% assigned) (1-pct_assigned)*M\n",
        "pct_assigned = assigned/vehicle_positions.shape[0]\n",
        "penalty_cost_no_assignment_made = (1-pct_assigned) * no_assignment_penalty\n",
        "# penalty cost for exceeding range\n",
        "\n",
        "total_cost = driving_cost + charging_cost + station_cost + charger_cost + penalty_cost_no_assignment_made\n",
        "\n",
        "print(\"{:.3f} seconds\".format(time.time()-start))\n",
        "print(\"{:.3f}% assigned\".format(100*pct_assigned))\n",
        "print(\"Mean distance to station: {:.2f}\".format(np.mean(distance_to_station)))\n",
        "print(\"Total cost: {:.2f}\".format(total_cost))\n",
        "plt.title('Histogram of distance to station')\n",
        "plt.xlabel('Distance')\n",
        "plt.hist(distance_to_station, alpha=0.5)\n",
        "plt.show()"
      ],
      "metadata": {
        "colab": {
          "base_uri": "https://localhost:8080/",
          "height": 561
        },
        "id": "CKAI9-zzu-D4",
        "outputId": "14f6de44-915b-4f67-f669-1fc1080a1a9c"
      },
      "execution_count": 103,
      "outputs": [
        {
          "output_type": "stream",
          "name": "stdout",
          "text": [
            "There are 877 applicable vehicles nodes\n",
            "0.149 seconds\n",
            "90.308% assigned\n",
            "Mean distance to station: 20.10\n",
            "Total cost: 2860984.96\n"
          ]
        },
        {
          "output_type": "display_data",
          "data": {
            "text/plain": [
              "<Figure size 640x480 with 1 Axes>"
            ],
            "image/png": "[encoded data removed]"
          },
          "metadata": {}
        }
      ]
    },
    {
      "cell_type": "code",
      "source": [
        "distance_to_station"
      ],
      "metadata": {
        "id": "cAhoYp7swksB"
      },
      "execution_count": null,
      "outputs": []
    },
    {
      "cell_type": "code",
      "source": [],
      "metadata": {
        "id": "nVaMt4TXf_OZ"
      },
      "execution_count": 59,
      "outputs": []
    },
    {
      "cell_type": "code",
      "source": [
        "v_b.shape[0], dist.shape[0], vehicle_positions.shape[0]"
      ],
      "metadata": {
        "colab": {
          "base_uri": "https://localhost:8080/"
        },
        "id": "zlHSvFCrgJc5",
        "outputId": "686880dd-55e9-43c4-be45-00e78af3f018"
      },
      "execution_count": 68,
      "outputs": [
        {
          "output_type": "execute_result",
          "data": {
            "text/plain": [
              "(862, 862, 862)"
            ]
          },
          "metadata": {},
          "execution_count": 68
        }
      ]
    },
    {
      "cell_type": "code",
      "source": [],
      "metadata": {
        "id": "Ai9XjjGptQMq"
      },
      "execution_count": 84,
      "outputs": []
    },
    {
      "cell_type": "code",
      "source": [],
      "metadata": {
        "id": "BkChPmkPybBb"
      },
      "execution_count": 86,
      "outputs": []
    },
    {
      "cell_type": "code",
      "source": [
        "def solve_MIP(population, car_data, local_best_scores):\n",
        "  for i in range(len(population.keys())):\n",
        "    # sample vehicle ranges\n",
        "    ranges = get_samples()\n",
        "\n",
        "    # get visiting probabilities\n",
        "    c = compute_visiting_probability(ranges)\n",
        "    # number of vehicles per batch\n",
        "    v_b = np.round(c * 10, 0)\n",
        "    # exclude vehicles with a low probability of charging\n",
        "    exclusion = 0.3*10\n",
        "\n",
        "    # vehicle batches which have a strong enough probability of visiting a charger\n",
        "    applicable_vehicles = np.array([v for v in range(v_b.shape[0]) if v_b[v] > exclusion])\n",
        "\n",
        "    print(\"There are {} applicable vehicles nodes\".format(applicable_vehicles.shape[0]))\n",
        "    vehicle_positions = car_data[applicable_vehicles]\n",
        "    vehicle_dict = {j : vehicle_positions[j] for j in range(vehicle_positions.shape[0])}\n",
        "\n",
        "    # station positions\n",
        "    station_dict = {j : population[i].positions[j] for j in range(n_individual)}\n",
        "    \n",
        "    distances = np.zeros((vehicle_positions.shape[0], n_individual))\n",
        "    for s in range(n_individual):\n",
        "        distances[:,s] = calculate_distance(vehicle_positions, population[i].positions[s])\n",
        "\n",
        "    obj, X = MIP(vehicle_dict, station_dict, distances, v_b)\n",
        "\n",
        "    # counting how many stations are active and subsequent cost\n",
        "    active_stations = [j for j in range(X.shape[1]) if np.sum(X[:, j]) > 0]\n",
        "    active_station_cost = construction_cost_per_station * len(active_stations)\n",
        "\n",
        "    total_cost = active_station_cost + obj\n",
        "\n",
        "    population[i].cost = total_cost\n",
        "\n",
        "    if total_cost < local_best_scores[i]:\n",
        "      local_best_scores[i] = total_cost\n",
        "      population[i].best_positions = population[i].positions\n",
        "\n",
        "    return obj, X\n"
      ],
      "metadata": {
        "id": "xPVHiZ19_z5I"
      },
      "execution_count": 86,
      "outputs": []
    },
    {
      "cell_type": "code",
      "source": [
        "def evaluate(population, vehicles, global_best_score, global_best_stations, local_best_scores):\n",
        "    '''\n",
        "    this function is where we run a MIP to solve the station size problem and then evaluate the total cost\n",
        "\n",
        "    The vehicle-->station assignments must be made in this function\n",
        "    '''\n",
        "\n",
        "    print('Solving assignment problem...')\n",
        "    obj, X = solve_MIP(population, vehicles, local_best_scores)\n",
        "    print('Assignment solved for population')\n",
        "\n",
        "    population_fitness = []\n",
        "    for i in population:\n",
        "      population_fitness.append(population[i].cost)\n",
        "\n",
        "    \n",
        "    print(\"Population fitness: \", population_fitness)\n",
        "    \n",
        "    if max(population_fitness) <= global_best_score:\n",
        "      global_best_score = max(population_fitness)\n",
        "      global_best_stations = population[np.argmax(population_fitness)].positions\n",
        "      print('Updated global best')\n",
        "    print(\"Evaluation Complete\\n----------------------------\")\n",
        "    \n",
        "    return global_best_score, global_best_stations, local_best_scores, [obj,X]"
      ],
      "metadata": {
        "id": "OYDNBWX8-PWR"
      },
      "execution_count": 53,
      "outputs": []
    },
    {
      "cell_type": "code",
      "source": [
        "# evaluate(population, car_data, global_best_score, global_best_stations, local_best_scores)"
      ],
      "metadata": {
        "id": "yYQK4qx0-Ad_"
      },
      "execution_count": 54,
      "outputs": []
    },
    {
      "cell_type": "code",
      "source": [
        "for gen in range(generations):\n",
        "\n",
        "  global_best_score, global_best_stations, local_best_scores, results = evaluate(population, car_data, global_best_score, global_best_stations, local_best_scores)\n",
        "\n",
        "  for ind in population:\n",
        "    population[ind].update_positions(global_best_stations)"
      ],
      "metadata": {
        "colab": {
          "base_uri": "https://localhost:8080/",
          "height": 443
        },
        "id": "Nq5xbrbV_3HE",
        "outputId": "b3208f9d-9bb4-47d4-cd3e-97d46bc7a4c0"
      },
      "execution_count": 55,
      "outputs": [
        {
          "output_type": "stream",
          "name": "stdout",
          "text": [
            "Solving assignment problem...\n",
            "There are 543 applicable vehicles nodes\n"
          ]
        },
        {
          "output_type": "error",
          "ename": "KeyboardInterrupt",
          "evalue": "ignored",
          "traceback": [
            "\u001b[0;31m---------------------------------------------------------------------------\u001b[0m",
            "\u001b[0;31mKeyboardInterrupt\u001b[0m                         Traceback (most recent call last)",
            "\u001b[0;32m<ipython-input-55-55a13713eed6>\u001b[0m in \u001b[0;36m<cell line: 1>\u001b[0;34m()\u001b[0m\n\u001b[1;32m      1\u001b[0m \u001b[0;32mfor\u001b[0m \u001b[0mgen\u001b[0m \u001b[0;32min\u001b[0m \u001b[0mrange\u001b[0m\u001b[0;34m(\u001b[0m\u001b[0mgenerations\u001b[0m\u001b[0;34m)\u001b[0m\u001b[0;34m:\u001b[0m\u001b[0;34m\u001b[0m\u001b[0;34m\u001b[0m\u001b[0m\n\u001b[1;32m      2\u001b[0m \u001b[0;34m\u001b[0m\u001b[0m\n\u001b[0;32m----> 3\u001b[0;31m   \u001b[0mglobal_best_score\u001b[0m\u001b[0;34m,\u001b[0m \u001b[0mglobal_best_stations\u001b[0m\u001b[0;34m,\u001b[0m \u001b[0mlocal_best_scores\u001b[0m\u001b[0;34m,\u001b[0m \u001b[0mresults\u001b[0m \u001b[0;34m=\u001b[0m \u001b[0mevaluate\u001b[0m\u001b[0;34m(\u001b[0m\u001b[0mpopulation\u001b[0m\u001b[0;34m,\u001b[0m \u001b[0mcar_data\u001b[0m\u001b[0;34m,\u001b[0m \u001b[0mglobal_best_score\u001b[0m\u001b[0;34m,\u001b[0m \u001b[0mglobal_best_stations\u001b[0m\u001b[0;34m,\u001b[0m \u001b[0mlocal_best_scores\u001b[0m\u001b[0;34m)\u001b[0m\u001b[0;34m\u001b[0m\u001b[0;34m\u001b[0m\u001b[0m\n\u001b[0m\u001b[1;32m      4\u001b[0m \u001b[0;34m\u001b[0m\u001b[0m\n\u001b[1;32m      5\u001b[0m   \u001b[0;32mfor\u001b[0m \u001b[0mind\u001b[0m \u001b[0;32min\u001b[0m \u001b[0mpopulation\u001b[0m\u001b[0;34m:\u001b[0m\u001b[0;34m\u001b[0m\u001b[0;34m\u001b[0m\u001b[0m\n",
            "\u001b[0;32m<ipython-input-53-f007f05125af>\u001b[0m in \u001b[0;36mevaluate\u001b[0;34m(population, vehicles, global_best_score, global_best_stations, local_best_scores)\u001b[0m\n\u001b[1;32m      7\u001b[0m \u001b[0;34m\u001b[0m\u001b[0m\n\u001b[1;32m      8\u001b[0m     \u001b[0mprint\u001b[0m\u001b[0;34m(\u001b[0m\u001b[0;34m'Solving assignment problem...'\u001b[0m\u001b[0;34m)\u001b[0m\u001b[0;34m\u001b[0m\u001b[0;34m\u001b[0m\u001b[0m\n\u001b[0;32m----> 9\u001b[0;31m     \u001b[0mobj\u001b[0m\u001b[0;34m,\u001b[0m \u001b[0mX\u001b[0m \u001b[0;34m=\u001b[0m \u001b[0msolve_MIP\u001b[0m\u001b[0;34m(\u001b[0m\u001b[0mpopulation\u001b[0m\u001b[0;34m,\u001b[0m \u001b[0mvehicles\u001b[0m\u001b[0;34m,\u001b[0m \u001b[0mlocal_best_scores\u001b[0m\u001b[0;34m)\u001b[0m\u001b[0;34m\u001b[0m\u001b[0;34m\u001b[0m\u001b[0m\n\u001b[0m\u001b[1;32m     10\u001b[0m     \u001b[0mprint\u001b[0m\u001b[0;34m(\u001b[0m\u001b[0;34m'Assignment solved for population'\u001b[0m\u001b[0;34m)\u001b[0m\u001b[0;34m\u001b[0m\u001b[0;34m\u001b[0m\u001b[0m\n\u001b[1;32m     11\u001b[0m \u001b[0;34m\u001b[0m\u001b[0m\n",
            "\u001b[0;32m<ipython-input-52-46c65c8b5af2>\u001b[0m in \u001b[0;36msolve_MIP\u001b[0;34m(population, car_data, local_best_scores)\u001b[0m\n\u001b[1;32m     25\u001b[0m         \u001b[0mdistances\u001b[0m\u001b[0;34m[\u001b[0m\u001b[0;34m:\u001b[0m\u001b[0;34m,\u001b[0m\u001b[0ms\u001b[0m\u001b[0;34m]\u001b[0m \u001b[0;34m=\u001b[0m \u001b[0mcalculate_distance\u001b[0m\u001b[0;34m(\u001b[0m\u001b[0mvehicle_positions\u001b[0m\u001b[0;34m,\u001b[0m \u001b[0mpopulation\u001b[0m\u001b[0;34m[\u001b[0m\u001b[0mi\u001b[0m\u001b[0;34m]\u001b[0m\u001b[0;34m.\u001b[0m\u001b[0mpositions\u001b[0m\u001b[0;34m[\u001b[0m\u001b[0ms\u001b[0m\u001b[0;34m]\u001b[0m\u001b[0;34m)\u001b[0m\u001b[0;34m\u001b[0m\u001b[0;34m\u001b[0m\u001b[0m\n\u001b[1;32m     26\u001b[0m \u001b[0;34m\u001b[0m\u001b[0m\n\u001b[0;32m---> 27\u001b[0;31m     \u001b[0mobj\u001b[0m\u001b[0;34m,\u001b[0m \u001b[0mX\u001b[0m \u001b[0;34m=\u001b[0m \u001b[0mMIP\u001b[0m\u001b[0;34m(\u001b[0m\u001b[0mvehicle_dict\u001b[0m\u001b[0;34m,\u001b[0m \u001b[0mstation_dict\u001b[0m\u001b[0;34m,\u001b[0m \u001b[0mdistances\u001b[0m\u001b[0;34m,\u001b[0m \u001b[0mv_b\u001b[0m\u001b[0;34m)\u001b[0m\u001b[0;34m\u001b[0m\u001b[0;34m\u001b[0m\u001b[0m\n\u001b[0m\u001b[1;32m     28\u001b[0m \u001b[0;34m\u001b[0m\u001b[0m\n\u001b[1;32m     29\u001b[0m     \u001b[0;31m# counting how many stations are active and subsequent cost\u001b[0m\u001b[0;34m\u001b[0m\u001b[0;34m\u001b[0m\u001b[0m\n",
            "\u001b[0;32m<ipython-input-47-558d46bd7634>\u001b[0m in \u001b[0;36mMIP\u001b[0;34m(vehicles, stations, distances, v_b)\u001b[0m\n\u001b[1;32m     63\u001b[0m       \u001b[0;32mreturn\u001b[0m \u001b[0mm\u001b[0m\u001b[0;34m.\u001b[0m\u001b[0mtau\u001b[0m\u001b[0;34m[\u001b[0m\u001b[0mstation\u001b[0m\u001b[0;34m]\u001b[0m \u001b[0;34m>=\u001b[0m \u001b[0mL\u001b[0m \u001b[0;34m-\u001b[0m \u001b[0mA\u001b[0m \u001b[0;34m*\u001b[0m \u001b[0mm\u001b[0m\u001b[0;34m.\u001b[0m\u001b[0my\u001b[0m\u001b[0;34m[\u001b[0m\u001b[0mstation\u001b[0m\u001b[0;34m]\u001b[0m\u001b[0;34m\u001b[0m\u001b[0;34m\u001b[0m\u001b[0m\n\u001b[1;32m     64\u001b[0m \u001b[0;34m\u001b[0m\u001b[0m\n\u001b[0;32m---> 65\u001b[0;31m   \u001b[0mresult\u001b[0m \u001b[0;34m=\u001b[0m \u001b[0msolver\u001b[0m\u001b[0;34m.\u001b[0m\u001b[0msolve\u001b[0m\u001b[0;34m(\u001b[0m\u001b[0mm\u001b[0m\u001b[0;34m)\u001b[0m\u001b[0;34m\u001b[0m\u001b[0;34m\u001b[0m\u001b[0m\n\u001b[0m\u001b[1;32m     66\u001b[0m \u001b[0;34m\u001b[0m\u001b[0m\n\u001b[1;32m     67\u001b[0m   \u001b[0mZ\u001b[0m \u001b[0;34m=\u001b[0m \u001b[0mnp\u001b[0m\u001b[0;34m.\u001b[0m\u001b[0mzeros\u001b[0m\u001b[0;34m(\u001b[0m\u001b[0;34m(\u001b[0m\u001b[0mmax\u001b[0m\u001b[0;34m(\u001b[0m\u001b[0mvehicles\u001b[0m\u001b[0;34m)\u001b[0m\u001b[0;34m+\u001b[0m\u001b[0;36m1\u001b[0m\u001b[0;34m,\u001b[0m \u001b[0mmax\u001b[0m\u001b[0;34m(\u001b[0m\u001b[0mstations\u001b[0m\u001b[0;34m)\u001b[0m\u001b[0;34m+\u001b[0m\u001b[0;36m1\u001b[0m\u001b[0;34m)\u001b[0m\u001b[0;34m)\u001b[0m\u001b[0;34m\u001b[0m\u001b[0;34m\u001b[0m\u001b[0m\n",
            "\u001b[0;32m/usr/local/lib/python3.9/dist-packages/pyomo/opt/base/solvers.py\u001b[0m in \u001b[0;36msolve\u001b[0;34m(self, *args, **kwds)\u001b[0m\n\u001b[1;32m    577\u001b[0m                 \u001b[0mself\u001b[0m\u001b[0;34m.\u001b[0m\u001b[0m_initialize_callbacks\u001b[0m\u001b[0;34m(\u001b[0m\u001b[0m_model\u001b[0m\u001b[0;34m)\u001b[0m\u001b[0;34m\u001b[0m\u001b[0;34m\u001b[0m\u001b[0m\n\u001b[1;32m    578\u001b[0m \u001b[0;34m\u001b[0m\u001b[0m\n\u001b[0;32m--> 579\u001b[0;31m             \u001b[0m_status\u001b[0m \u001b[0;34m=\u001b[0m \u001b[0mself\u001b[0m\u001b[0;34m.\u001b[0m\u001b[0m_apply_solver\u001b[0m\u001b[0;34m(\u001b[0m\u001b[0;34m)\u001b[0m\u001b[0;34m\u001b[0m\u001b[0;34m\u001b[0m\u001b[0m\n\u001b[0m\u001b[1;32m    580\u001b[0m             \u001b[0;32mif\u001b[0m \u001b[0mhasattr\u001b[0m\u001b[0;34m(\u001b[0m\u001b[0mself\u001b[0m\u001b[0;34m,\u001b[0m \u001b[0;34m'_transformation_data'\u001b[0m\u001b[0;34m)\u001b[0m\u001b[0;34m:\u001b[0m\u001b[0;34m\u001b[0m\u001b[0;34m\u001b[0m\u001b[0m\n\u001b[1;32m    581\u001b[0m                 \u001b[0;32mdel\u001b[0m \u001b[0mself\u001b[0m\u001b[0;34m.\u001b[0m\u001b[0m_transformation_data\u001b[0m\u001b[0;34m\u001b[0m\u001b[0;34m\u001b[0m\u001b[0m\n",
            "\u001b[0;32m/usr/local/lib/python3.9/dist-packages/pyomo/opt/solver/shellcmd.py\u001b[0m in \u001b[0;36m_apply_solver\u001b[0;34m(self)\u001b[0m\n\u001b[1;32m    263\u001b[0m \u001b[0;34m\u001b[0m\u001b[0m\n\u001b[1;32m    264\u001b[0m         \u001b[0msys\u001b[0m\u001b[0;34m.\u001b[0m\u001b[0mstdout\u001b[0m\u001b[0;34m.\u001b[0m\u001b[0mflush\u001b[0m\u001b[0;34m(\u001b[0m\u001b[0;34m)\u001b[0m\u001b[0;34m\u001b[0m\u001b[0;34m\u001b[0m\u001b[0m\n\u001b[0;32m--> 265\u001b[0;31m         \u001b[0mself\u001b[0m\u001b[0;34m.\u001b[0m\u001b[0m_rc\u001b[0m\u001b[0;34m,\u001b[0m \u001b[0mself\u001b[0m\u001b[0;34m.\u001b[0m\u001b[0m_log\u001b[0m \u001b[0;34m=\u001b[0m \u001b[0mself\u001b[0m\u001b[0;34m.\u001b[0m\u001b[0m_execute_command\u001b[0m\u001b[0;34m(\u001b[0m\u001b[0mself\u001b[0m\u001b[0;34m.\u001b[0m\u001b[0m_command\u001b[0m\u001b[0;34m)\u001b[0m\u001b[0;34m\u001b[0m\u001b[0;34m\u001b[0m\u001b[0m\n\u001b[0m\u001b[1;32m    266\u001b[0m         \u001b[0msys\u001b[0m\u001b[0;34m.\u001b[0m\u001b[0mstdout\u001b[0m\u001b[0;34m.\u001b[0m\u001b[0mflush\u001b[0m\u001b[0;34m(\u001b[0m\u001b[0;34m)\u001b[0m\u001b[0;34m\u001b[0m\u001b[0;34m\u001b[0m\u001b[0m\n\u001b[1;32m    267\u001b[0m         \u001b[0;32mreturn\u001b[0m \u001b[0mBunch\u001b[0m\u001b[0;34m(\u001b[0m\u001b[0mrc\u001b[0m\u001b[0;34m=\u001b[0m\u001b[0mself\u001b[0m\u001b[0;34m.\u001b[0m\u001b[0m_rc\u001b[0m\u001b[0;34m,\u001b[0m \u001b[0mlog\u001b[0m\u001b[0;34m=\u001b[0m\u001b[0mself\u001b[0m\u001b[0;34m.\u001b[0m\u001b[0m_log\u001b[0m\u001b[0;34m)\u001b[0m\u001b[0;34m\u001b[0m\u001b[0;34m\u001b[0m\u001b[0m\n",
            "\u001b[0;32m/usr/local/lib/python3.9/dist-packages/pyomo/opt/solver/shellcmd.py\u001b[0m in \u001b[0;36m_execute_command\u001b[0;34m(self, command)\u001b[0m\n\u001b[1;32m    332\u001b[0m         \u001b[0;32mtry\u001b[0m\u001b[0;34m:\u001b[0m\u001b[0;34m\u001b[0m\u001b[0;34m\u001b[0m\u001b[0m\n\u001b[1;32m    333\u001b[0m             \u001b[0;32mwith\u001b[0m \u001b[0mTeeStream\u001b[0m\u001b[0;34m(\u001b[0m\u001b[0;34m*\u001b[0m\u001b[0mostreams\u001b[0m\u001b[0;34m)\u001b[0m \u001b[0;32mas\u001b[0m \u001b[0mt\u001b[0m\u001b[0;34m:\u001b[0m\u001b[0;34m\u001b[0m\u001b[0;34m\u001b[0m\u001b[0m\n\u001b[0;32m--> 334\u001b[0;31m                 results = subprocess.run(\n\u001b[0m\u001b[1;32m    335\u001b[0m                     \u001b[0mcommand\u001b[0m\u001b[0;34m.\u001b[0m\u001b[0mcmd\u001b[0m\u001b[0;34m,\u001b[0m\u001b[0;34m\u001b[0m\u001b[0;34m\u001b[0m\u001b[0m\n\u001b[1;32m    336\u001b[0m                     \u001b[0minput\u001b[0m\u001b[0;34m=\u001b[0m\u001b[0m_input\u001b[0m\u001b[0;34m,\u001b[0m\u001b[0;34m\u001b[0m\u001b[0;34m\u001b[0m\u001b[0m\n",
            "\u001b[0;32m/usr/lib/python3.9/subprocess.py\u001b[0m in \u001b[0;36mrun\u001b[0;34m(input, capture_output, timeout, check, *popenargs, **kwargs)\u001b[0m\n\u001b[1;32m    505\u001b[0m     \u001b[0;32mwith\u001b[0m \u001b[0mPopen\u001b[0m\u001b[0;34m(\u001b[0m\u001b[0;34m*\u001b[0m\u001b[0mpopenargs\u001b[0m\u001b[0;34m,\u001b[0m \u001b[0;34m**\u001b[0m\u001b[0mkwargs\u001b[0m\u001b[0;34m)\u001b[0m \u001b[0;32mas\u001b[0m \u001b[0mprocess\u001b[0m\u001b[0;34m:\u001b[0m\u001b[0;34m\u001b[0m\u001b[0;34m\u001b[0m\u001b[0m\n\u001b[1;32m    506\u001b[0m         \u001b[0;32mtry\u001b[0m\u001b[0;34m:\u001b[0m\u001b[0;34m\u001b[0m\u001b[0;34m\u001b[0m\u001b[0m\n\u001b[0;32m--> 507\u001b[0;31m             \u001b[0mstdout\u001b[0m\u001b[0;34m,\u001b[0m \u001b[0mstderr\u001b[0m \u001b[0;34m=\u001b[0m \u001b[0mprocess\u001b[0m\u001b[0;34m.\u001b[0m\u001b[0mcommunicate\u001b[0m\u001b[0;34m(\u001b[0m\u001b[0minput\u001b[0m\u001b[0;34m,\u001b[0m \u001b[0mtimeout\u001b[0m\u001b[0;34m=\u001b[0m\u001b[0mtimeout\u001b[0m\u001b[0;34m)\u001b[0m\u001b[0;34m\u001b[0m\u001b[0;34m\u001b[0m\u001b[0m\n\u001b[0m\u001b[1;32m    508\u001b[0m         \u001b[0;32mexcept\u001b[0m \u001b[0mTimeoutExpired\u001b[0m \u001b[0;32mas\u001b[0m \u001b[0mexc\u001b[0m\u001b[0;34m:\u001b[0m\u001b[0;34m\u001b[0m\u001b[0;34m\u001b[0m\u001b[0m\n\u001b[1;32m    509\u001b[0m             \u001b[0mprocess\u001b[0m\u001b[0;34m.\u001b[0m\u001b[0mkill\u001b[0m\u001b[0;34m(\u001b[0m\u001b[0;34m)\u001b[0m\u001b[0;34m\u001b[0m\u001b[0;34m\u001b[0m\u001b[0m\n",
            "\u001b[0;32m/usr/lib/python3.9/subprocess.py\u001b[0m in \u001b[0;36mcommunicate\u001b[0;34m(self, input, timeout)\u001b[0m\n\u001b[1;32m   1124\u001b[0m                 \u001b[0mstderr\u001b[0m \u001b[0;34m=\u001b[0m \u001b[0mself\u001b[0m\u001b[0;34m.\u001b[0m\u001b[0mstderr\u001b[0m\u001b[0;34m.\u001b[0m\u001b[0mread\u001b[0m\u001b[0;34m(\u001b[0m\u001b[0;34m)\u001b[0m\u001b[0;34m\u001b[0m\u001b[0;34m\u001b[0m\u001b[0m\n\u001b[1;32m   1125\u001b[0m                 \u001b[0mself\u001b[0m\u001b[0;34m.\u001b[0m\u001b[0mstderr\u001b[0m\u001b[0;34m.\u001b[0m\u001b[0mclose\u001b[0m\u001b[0;34m(\u001b[0m\u001b[0;34m)\u001b[0m\u001b[0;34m\u001b[0m\u001b[0;34m\u001b[0m\u001b[0m\n\u001b[0;32m-> 1126\u001b[0;31m             \u001b[0mself\u001b[0m\u001b[0;34m.\u001b[0m\u001b[0mwait\u001b[0m\u001b[0;34m(\u001b[0m\u001b[0;34m)\u001b[0m\u001b[0;34m\u001b[0m\u001b[0;34m\u001b[0m\u001b[0m\n\u001b[0m\u001b[1;32m   1127\u001b[0m         \u001b[0;32melse\u001b[0m\u001b[0;34m:\u001b[0m\u001b[0;34m\u001b[0m\u001b[0;34m\u001b[0m\u001b[0m\n\u001b[1;32m   1128\u001b[0m             \u001b[0;32mif\u001b[0m \u001b[0mtimeout\u001b[0m \u001b[0;32mis\u001b[0m \u001b[0;32mnot\u001b[0m \u001b[0;32mNone\u001b[0m\u001b[0;34m:\u001b[0m\u001b[0;34m\u001b[0m\u001b[0;34m\u001b[0m\u001b[0m\n",
            "\u001b[0;32m/usr/lib/python3.9/subprocess.py\u001b[0m in \u001b[0;36mwait\u001b[0;34m(self, timeout)\u001b[0m\n\u001b[1;32m   1187\u001b[0m             \u001b[0mendtime\u001b[0m \u001b[0;34m=\u001b[0m \u001b[0m_time\u001b[0m\u001b[0;34m(\u001b[0m\u001b[0;34m)\u001b[0m \u001b[0;34m+\u001b[0m \u001b[0mtimeout\u001b[0m\u001b[0;34m\u001b[0m\u001b[0;34m\u001b[0m\u001b[0m\n\u001b[1;32m   1188\u001b[0m         \u001b[0;32mtry\u001b[0m\u001b[0;34m:\u001b[0m\u001b[0;34m\u001b[0m\u001b[0;34m\u001b[0m\u001b[0m\n\u001b[0;32m-> 1189\u001b[0;31m             \u001b[0;32mreturn\u001b[0m \u001b[0mself\u001b[0m\u001b[0;34m.\u001b[0m\u001b[0m_wait\u001b[0m\u001b[0;34m(\u001b[0m\u001b[0mtimeout\u001b[0m\u001b[0;34m=\u001b[0m\u001b[0mtimeout\u001b[0m\u001b[0;34m)\u001b[0m\u001b[0;34m\u001b[0m\u001b[0;34m\u001b[0m\u001b[0m\n\u001b[0m\u001b[1;32m   1190\u001b[0m         \u001b[0;32mexcept\u001b[0m \u001b[0mKeyboardInterrupt\u001b[0m\u001b[0;34m:\u001b[0m\u001b[0;34m\u001b[0m\u001b[0;34m\u001b[0m\u001b[0m\n\u001b[1;32m   1191\u001b[0m             \u001b[0;31m# https://bugs.python.org/issue25942\u001b[0m\u001b[0;34m\u001b[0m\u001b[0;34m\u001b[0m\u001b[0m\n",
            "\u001b[0;32m/usr/lib/python3.9/subprocess.py\u001b[0m in \u001b[0;36m_wait\u001b[0;34m(self, timeout)\u001b[0m\n\u001b[1;32m   1915\u001b[0m                         \u001b[0;32mif\u001b[0m \u001b[0mself\u001b[0m\u001b[0;34m.\u001b[0m\u001b[0mreturncode\u001b[0m \u001b[0;32mis\u001b[0m \u001b[0;32mnot\u001b[0m \u001b[0;32mNone\u001b[0m\u001b[0;34m:\u001b[0m\u001b[0;34m\u001b[0m\u001b[0;34m\u001b[0m\u001b[0m\n\u001b[1;32m   1916\u001b[0m                             \u001b[0;32mbreak\u001b[0m  \u001b[0;31m# Another thread waited.\u001b[0m\u001b[0;34m\u001b[0m\u001b[0;34m\u001b[0m\u001b[0m\n\u001b[0;32m-> 1917\u001b[0;31m                         \u001b[0;34m(\u001b[0m\u001b[0mpid\u001b[0m\u001b[0;34m,\u001b[0m \u001b[0msts\u001b[0m\u001b[0;34m)\u001b[0m \u001b[0;34m=\u001b[0m \u001b[0mself\u001b[0m\u001b[0;34m.\u001b[0m\u001b[0m_try_wait\u001b[0m\u001b[0;34m(\u001b[0m\u001b[0;36m0\u001b[0m\u001b[0;34m)\u001b[0m\u001b[0;34m\u001b[0m\u001b[0;34m\u001b[0m\u001b[0m\n\u001b[0m\u001b[1;32m   1918\u001b[0m                         \u001b[0;31m# Check the pid and loop as waitpid has been known to\u001b[0m\u001b[0;34m\u001b[0m\u001b[0;34m\u001b[0m\u001b[0m\n\u001b[1;32m   1919\u001b[0m                         \u001b[0;31m# return 0 even without WNOHANG in odd situations.\u001b[0m\u001b[0;34m\u001b[0m\u001b[0;34m\u001b[0m\u001b[0m\n",
            "\u001b[0;32m/usr/lib/python3.9/subprocess.py\u001b[0m in \u001b[0;36m_try_wait\u001b[0;34m(self, wait_flags)\u001b[0m\n\u001b[1;32m   1873\u001b[0m             \u001b[0;34m\"\"\"All callers to this function MUST hold self._waitpid_lock.\"\"\"\u001b[0m\u001b[0;34m\u001b[0m\u001b[0;34m\u001b[0m\u001b[0m\n\u001b[1;32m   1874\u001b[0m             \u001b[0;32mtry\u001b[0m\u001b[0;34m:\u001b[0m\u001b[0;34m\u001b[0m\u001b[0;34m\u001b[0m\u001b[0m\n\u001b[0;32m-> 1875\u001b[0;31m                 \u001b[0;34m(\u001b[0m\u001b[0mpid\u001b[0m\u001b[0;34m,\u001b[0m \u001b[0msts\u001b[0m\u001b[0;34m)\u001b[0m \u001b[0;34m=\u001b[0m \u001b[0mos\u001b[0m\u001b[0;34m.\u001b[0m\u001b[0mwaitpid\u001b[0m\u001b[0;34m(\u001b[0m\u001b[0mself\u001b[0m\u001b[0;34m.\u001b[0m\u001b[0mpid\u001b[0m\u001b[0;34m,\u001b[0m \u001b[0mwait_flags\u001b[0m\u001b[0;34m)\u001b[0m\u001b[0;34m\u001b[0m\u001b[0;34m\u001b[0m\u001b[0m\n\u001b[0m\u001b[1;32m   1876\u001b[0m             \u001b[0;32mexcept\u001b[0m \u001b[0mChildProcessError\u001b[0m\u001b[0;34m:\u001b[0m\u001b[0;34m\u001b[0m\u001b[0;34m\u001b[0m\u001b[0m\n\u001b[1;32m   1877\u001b[0m                 \u001b[0;31m# This happens if SIGCLD is set to be ignored or waiting\u001b[0m\u001b[0;34m\u001b[0m\u001b[0;34m\u001b[0m\u001b[0m\n",
            "\u001b[0;31mKeyboardInterrupt\u001b[0m: "
          ]
        }
      ]
    },
    {
      "cell_type": "code",
      "source": [
        "plt.plot([2224351.204102395, \n",
        "          2246574.6962350816,\n",
        "          2087997.790473562,\n",
        "          2159984.608158535,\n",
        "          2031938.1664931644,\n",
        "          2036476.118998086,\n",
        "          2054931.4231311667,\n",
        "          2080929.9166139835,\n",
        "          2019351.0023448777,\n",
        "          1984720.736706721])\n",
        "plt.ylabel('Cost')\n",
        "plt.xlabel('Generation')"
      ],
      "metadata": {
        "colab": {
          "base_uri": "https://localhost:8080/",
          "height": 483
        },
        "id": "LeObkiCWJO20",
        "outputId": "92d40d38-1df0-4b16-ffc3-4289daedfc3e"
      },
      "execution_count": null,
      "outputs": [
        {
          "output_type": "execute_result",
          "data": {
            "text/plain": [
              "Text(0.5, 0, 'Generation')"
            ]
          },
          "metadata": {},
          "execution_count": 195
        },
        {
          "output_type": "display_data",
          "data": {
            "text/plain": [
              "<Figure size 640x480 with 1 Axes>"
            ],
            "image/png": "[encoded data removed]"
          },
          "metadata": {}
        }
      ]
    },
    {
      "cell_type": "code",
      "source": [
        "results"
      ],
      "metadata": {
        "id": "3SwzsESgYVTf",
        "colab": {
          "base_uri": "https://localhost:8080/"
        },
        "outputId": "7319847e-3db7-4fd5-d65d-450592581889"
      },
      "execution_count": null,
      "outputs": [
        {
          "output_type": "execute_result",
          "data": {
            "text/plain": [
              "[1293809.318375984,\n",
              " array([[0., 0., 0., ..., 0., 0., 0.],\n",
              "        [0., 0., 0., ..., 0., 0., 0.],\n",
              "        [0., 0., 0., ..., 0., 0., 0.],\n",
              "        ...,\n",
              "        [0., 0., 0., ..., 0., 0., 0.],\n",
              "        [0., 0., 0., ..., 0., 0., 0.],\n",
              "        [0., 0., 0., ..., 0., 0., 0.]])]"
            ]
          },
          "metadata": {},
          "execution_count": 20
        }
      ]
    },
    {
      "cell_type": "code",
      "source": [],
      "metadata": {
        "id": "zxD3UrGnYV58"
      },
      "execution_count": null,
      "outputs": []
    },
    {
      "cell_type": "code",
      "source": [],
      "metadata": {
        "id": "NrwNGA7z7KEd"
      },
      "execution_count": null,
      "outputs": []
    }
  ]
}